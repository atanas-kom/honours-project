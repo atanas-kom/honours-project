{
 "cells": [
  {
   "cell_type": "markdown",
   "metadata": {},
   "source": [
    "University of Aberdeen\\\n",
    "Atanas Komsiyski\n",
    "## Evaluating GPT-3.5-turbo for Action Item Extraction in Meeting Transcripts"
   ]
  },
  {
   "cell_type": "markdown",
   "metadata": {},
   "source": [
    "This Jupyter notebook contains the preprocessing pipeline for meeting transcripts from the ICSI corpus.\\\n",
    "It processes the MRT files from the dataset into human-readable TXT files.\n"
   ]
  },
  {
   "cell_type": "markdown",
   "metadata": {},
   "source": [
    "#### Libraries\n",
    "To ensure all libraries are installed before executing the notebook run -pip install requirements.txt"
   ]
  },
  {
   "cell_type": "code",
   "execution_count": 25,
   "metadata": {},
   "outputs": [],
   "source": [
    "# importing libraries\n",
    "import os\n",
    "import xml.etree.ElementTree as ET\n",
    "import re"
   ]
  },
  {
   "cell_type": "code",
   "execution_count": 26,
   "metadata": {},
   "outputs": [],
   "source": [
    "# main function processing the MRT files to human-readable TXTs\n",
    "def MRTtoTXT(xml_file):\n",
    "    # load the MRT(XML-like) file\n",
    "    tree = ET.parse(xml_file)\n",
    "    root = tree.getroot()\n",
    "\n",
    "    current_participant = None # set the starting participant and text as blank\n",
    "    participant_text = \"\"\n",
    "\n",
    "    # extract text and participant from each Segment\n",
    "    for segment in root.findall('.//Segment'):\n",
    "        participant = segment.get('Participant', '')\n",
    "        digit_task = segment.get('DigitTask', '')\n",
    "\n",
    "        # ignore Segments part of the Digits Task\n",
    "        if digit_task.lower() == 'true':\n",
    "            continue\n",
    "\n",
    "\n",
    "        text = ''.join(segment.itertext()).strip() # strip the text segment of any extra spaces\n",
    "\n",
    "        if text and participant:  # check if there is text and participant for the current Segment\n",
    "            # if participant changes or it's the first Segment\n",
    "            if participant != current_participant:\n",
    "                # yield the participant's text and format it\n",
    "                if participant_text:\n",
    "                    yield f\"{current_participant}: {participant_text}\" # e.g. - Name: This is a test.\n",
    "                # reset participant and text for the next participant\n",
    "                current_participant = participant\n",
    "                participant_text = text\n",
    "            else:\n",
    "                # concatenate text if the participant is the same; puts speech from across elements together if the speaker reamains the same\n",
    "                participant_text += \" \" + text\n",
    "\n",
    "    # yield the last participant's text\n",
    "    if participant_text:\n",
    "        yield f\"{current_participant}: {participant_text}\"\n",
    "\n"
   ]
  },
  {
   "cell_type": "code",
   "execution_count": null,
   "metadata": {},
   "outputs": [],
   "source": [
    "\n",
    "# function to iterate through folder and process using the MRT to TXT function\n",
    "def process_folder(input_folder, output_folder):\n",
    "    # create output folder if it doesn't exist\n",
    "    if not os.path.exists(output_folder):\n",
    "        os.makedirs(output_folder)\n",
    "\n",
    "    # process each file from the input folder\n",
    "    for filename in os.listdir(input_folder):\n",
    "        if filename.endswith('.mrt'):\n",
    "            input_file_path = os.path.join(input_folder, filename)\n",
    "            output_file_path = os.path.join(output_folder, os.path.splitext(filename)[0] + '.txt') # create a txt file with the same name as the original MRT file\n",
    "\n",
    "            # extract text from MRT file\n",
    "            text_content = \"\\n\".join(MRTtoTXT(input_file_path))\n",
    "            \n",
    "            # remove accidental double spaces from concatenating and underscores from abreviations\n",
    "            text_content = re.sub(r\"[^\\S\\n]+\", \" \", text_content)   # the regular expression removes all runs of more than one space but preserves newline(\\n) characters\n",
    "            text_content = text_content.replace(\"_\", \"\") # replace _ from abreviations in text\n",
    "\n",
    "            # write text content to the new .txt file if there is any text\n",
    "            if text_content:\n",
    "                with open(output_file_path, 'w') as txt_file:\n",
    "                    txt_file.write(text_content)\n",
    "\n",
    "# path to the input folder containing MRT files\n",
    "input_folder_path = 'ICSI_original_transcripts/transcripts'\n",
    "\n",
    "# path to the output folder where .txt files will be saved\n",
    "output_folder_path = 'ICSI_original_transcripts/transcripts/txt_transcripts'\n",
    "\n",
    "# processing the input folder\n",
    "process_folder(input_folder_path, output_folder_path)\n",
    "\n"
   ]
  }
 ],
 "metadata": {
  "kernelspec": {
   "display_name": "venv",
   "language": "python",
   "name": "python3"
  },
  "language_info": {
   "codemirror_mode": {
    "name": "ipython",
    "version": 3
   },
   "file_extension": ".py",
   "mimetype": "text/x-python",
   "name": "python",
   "nbconvert_exporter": "python",
   "pygments_lexer": "ipython3",
   "version": "3.12.1"
  }
 },
 "nbformat": 4,
 "nbformat_minor": 2
}
